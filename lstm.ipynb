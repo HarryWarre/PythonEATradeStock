{
 "cells": [
  {
   "cell_type": "code",
   "execution_count": 63,
   "metadata": {},
   "outputs": [
    {
     "name": "stderr",
     "output_type": "stream",
     "text": [
      "[*********************100%%**********************]  1 of 1 completed\n"
     ]
    },
    {
     "data": {
      "text/html": [
       "<div>\n",
       "<style scoped>\n",
       "    .dataframe tbody tr th:only-of-type {\n",
       "        vertical-align: middle;\n",
       "    }\n",
       "\n",
       "    .dataframe tbody tr th {\n",
       "        vertical-align: top;\n",
       "    }\n",
       "\n",
       "    .dataframe thead th {\n",
       "        text-align: right;\n",
       "    }\n",
       "</style>\n",
       "<table border=\"1\" class=\"dataframe\">\n",
       "  <thead>\n",
       "    <tr style=\"text-align: right;\">\n",
       "      <th></th>\n",
       "      <th>Open</th>\n",
       "      <th>High</th>\n",
       "      <th>Low</th>\n",
       "      <th>Close</th>\n",
       "      <th>Adj Close</th>\n",
       "      <th>Volume</th>\n",
       "    </tr>\n",
       "    <tr>\n",
       "      <th>Date</th>\n",
       "      <th></th>\n",
       "      <th></th>\n",
       "      <th></th>\n",
       "      <th></th>\n",
       "      <th></th>\n",
       "      <th></th>\n",
       "    </tr>\n",
       "  </thead>\n",
       "  <tbody>\n",
       "    <tr>\n",
       "      <th>2010-01-04</th>\n",
       "      <td>30.620001</td>\n",
       "      <td>31.100000</td>\n",
       "      <td>30.590000</td>\n",
       "      <td>30.950001</td>\n",
       "      <td>23.389395</td>\n",
       "      <td>38409100</td>\n",
       "    </tr>\n",
       "    <tr>\n",
       "      <th>2010-01-05</th>\n",
       "      <td>30.850000</td>\n",
       "      <td>31.100000</td>\n",
       "      <td>30.639999</td>\n",
       "      <td>30.959999</td>\n",
       "      <td>23.396961</td>\n",
       "      <td>49749600</td>\n",
       "    </tr>\n",
       "    <tr>\n",
       "      <th>2010-01-06</th>\n",
       "      <td>30.879999</td>\n",
       "      <td>31.080000</td>\n",
       "      <td>30.520000</td>\n",
       "      <td>30.770000</td>\n",
       "      <td>23.253372</td>\n",
       "      <td>58182400</td>\n",
       "    </tr>\n",
       "    <tr>\n",
       "      <th>2010-01-07</th>\n",
       "      <td>30.629999</td>\n",
       "      <td>30.700001</td>\n",
       "      <td>30.190001</td>\n",
       "      <td>30.450001</td>\n",
       "      <td>23.011543</td>\n",
       "      <td>50559700</td>\n",
       "    </tr>\n",
       "    <tr>\n",
       "      <th>2010-01-08</th>\n",
       "      <td>30.280001</td>\n",
       "      <td>30.879999</td>\n",
       "      <td>30.240000</td>\n",
       "      <td>30.660000</td>\n",
       "      <td>23.170246</td>\n",
       "      <td>51197400</td>\n",
       "    </tr>\n",
       "  </tbody>\n",
       "</table>\n",
       "</div>"
      ],
      "text/plain": [
       "                 Open       High        Low      Close  Adj Close    Volume\n",
       "Date                                                                       \n",
       "2010-01-04  30.620001  31.100000  30.590000  30.950001  23.389395  38409100\n",
       "2010-01-05  30.850000  31.100000  30.639999  30.959999  23.396961  49749600\n",
       "2010-01-06  30.879999  31.080000  30.520000  30.770000  23.253372  58182400\n",
       "2010-01-07  30.629999  30.700001  30.190001  30.450001  23.011543  50559700\n",
       "2010-01-08  30.280001  30.879999  30.240000  30.660000  23.170246  51197400"
      ]
     },
     "execution_count": 63,
     "metadata": {},
     "output_type": "execute_result"
    }
   ],
   "source": [
    "import yfinance as yf\n",
    "import pandas as pd\n",
    "import numpy as np\n",
    "# Lấy dữ liệu lịch sử của cổ phiếu MSFT từ năm 2010 đến nay\n",
    "data = yf.download('MSFT', start='2010-01-01', end='2024-05-16')\n",
    "data.head()"
   ]
  },
  {
   "cell_type": "markdown",
   "metadata": {},
   "source": [
    "Chia dữ liệu thành 2 phần:\n",
    "Phần 1 tới 23/6/2023 dùng để huấn luyện và phần sau dùng để đánh giá hiệu suất"
   ]
  },
  {
   "cell_type": "code",
   "execution_count": 82,
   "metadata": {},
   "outputs": [
    {
     "data": {
      "text/plain": [
       "pandas.core.indexes.datetimes.DatetimeIndex"
      ]
     },
     "execution_count": 82,
     "metadata": {},
     "output_type": "execute_result"
    }
   ],
   "source": [
    "close = data['Adj Close']\n",
    "\n",
    "date = pd.to_datetime(close.index)\n",
    "type(date)\n",
    "# close.index\n",
    "# def split_by_weeks(data, num_weeks):\n",
    "#     \"\"\"\n",
    "#     Chia data thành tập train và test theo số tuần.\n",
    "\n",
    "#     Args:\n",
    "#     data: DataFrame chứa data.\n",
    "#     num_weeks: Số tuần trong tập train.\n",
    "\n",
    "#     Returns:\n",
    "#     X_train: Data train.\n",
    "#     X_test: Data test.\n",
    "#     \"\"\"\n",
    "\n",
    "#     last_date = data.index.iloc[-1]\n",
    "#     train_end_index = data.index.get_loc(last_date - pd.Timedelta(days=7 * num_weeks))\n",
    "\n",
    "#     X_train = data[data.index <= train_end_index]['Adj Close']\n",
    "#     X_test = data[data.index > train_end_index]['Adj Close']\n",
    "\n",
    "#     return X_train, X_test\n",
    "\n",
    "# X_train, X_test = split_by_weeks(data.copy(), 52)"
   ]
  }
 ],
 "metadata": {
  "kernelspec": {
   "display_name": "Python 3",
   "language": "python",
   "name": "python3"
  },
  "language_info": {
   "name": "python",
   "version": "3.12.3"
  }
 },
 "nbformat": 4,
 "nbformat_minor": 2
}
